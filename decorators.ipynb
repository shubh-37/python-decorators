{
 "cells": [
  {
   "cell_type": "code",
   "execution_count": 4,
   "id": "5e5f3c02",
   "metadata": {},
   "outputs": [],
   "source": [
    "# Making a python decorator"
   ]
  },
  {
   "cell_type": "code",
   "execution_count": 7,
   "id": "17314033",
   "metadata": {},
   "outputs": [],
   "source": [
    "#Function within Function\n",
    "\n",
    "def func():\n",
    "    print(\"This is in the main function\")\n",
    "    \n",
    "    def inside_func():\n",
    "        return\"\\tThis is a func inside the main func\"\n",
    "        \n",
    "    def another_func():\n",
    "        return \"\\tThis is another func inside the main func\"\n",
    "    \n",
    "    print(inside_func())\n",
    "    print(another_func())\n",
    "    print(\"Now we are back to the main function\")\n",
    "    "
   ]
  },
  {
   "cell_type": "code",
   "execution_count": 9,
   "id": "dd15de87",
   "metadata": {},
   "outputs": [
    {
     "name": "stdout",
     "output_type": "stream",
     "text": [
      "This is in the main function\n",
      "\tThis is a func inside the main func\n",
      "\tThis is another func inside the main func\n",
      "Now we are back to the main function\n"
     ]
    }
   ],
   "source": [
    "func()"
   ]
  },
  {
   "cell_type": "code",
   "execution_count": 16,
   "id": "665271f5",
   "metadata": {},
   "outputs": [],
   "source": [
    "#Returning a Function\n",
    "\n",
    "def funct():\n",
    "    \n",
    "    def new_func():\n",
    "        print(\"I'm inside the main function\")\n",
    "        \n",
    "    return new_func()"
   ]
  },
  {
   "cell_type": "code",
   "execution_count": 17,
   "id": "1442e127",
   "metadata": {},
   "outputs": [
    {
     "name": "stdout",
     "output_type": "stream",
     "text": [
      "I'm inside the main function\n"
     ]
    }
   ],
   "source": [
    "funct()"
   ]
  },
  {
   "cell_type": "code",
   "execution_count": 18,
   "id": "9fd3873b",
   "metadata": {},
   "outputs": [],
   "source": [
    "#function as arguments\n",
    "\n",
    "def new_func(funct): #look how we are just calling the raw func and not executing it\n",
    "    print(\"Some other code over here\")\n",
    "    print(funct())"
   ]
  },
  {
   "cell_type": "code",
   "execution_count": 19,
   "id": "b352e205",
   "metadata": {},
   "outputs": [
    {
     "name": "stdout",
     "output_type": "stream",
     "text": [
      "Some other code over here\n",
      "I'm inside the main function\n",
      "None\n"
     ]
    }
   ],
   "source": [
    "new_func(funct)"
   ]
  },
  {
   "cell_type": "code",
   "execution_count": 20,
   "id": "931b0cbf",
   "metadata": {},
   "outputs": [],
   "source": [
    "# now on to creating a decorator\n",
    "\n",
    "def new_decorator(original_func):\n",
    "    \n",
    "    def wrap_func():\n",
    "        print(\"Some code before the original func\")\n",
    "        \n",
    "        original_func()\n",
    "        \n",
    "        print(\"Some Code after the original func\")\n",
    "    \n",
    "    return wrap_func\n",
    "\n",
    "def needs_some_decor():\n",
    "    print(\"This function needs some decoration\")\n",
    "        "
   ]
  },
  {
   "cell_type": "code",
   "execution_count": 21,
   "id": "ca131661",
   "metadata": {},
   "outputs": [
    {
     "data": {
      "text/plain": [
       "<function __main__.new_decorator.<locals>.wrap_func()>"
      ]
     },
     "execution_count": 21,
     "metadata": {},
     "output_type": "execute_result"
    }
   ],
   "source": [
    "new_decorator(needs_some_decor)"
   ]
  },
  {
   "cell_type": "code",
   "execution_count": 22,
   "id": "72380041",
   "metadata": {},
   "outputs": [],
   "source": [
    "vari = new_decorator(needs_some_decor)"
   ]
  },
  {
   "cell_type": "code",
   "execution_count": 24,
   "id": "778218f0",
   "metadata": {},
   "outputs": [
    {
     "name": "stdout",
     "output_type": "stream",
     "text": [
      "Some code before the original func\n",
      "This function needs some decoration\n",
      "Some Code after the original func\n"
     ]
    }
   ],
   "source": [
    "vari()"
   ]
  },
  {
   "cell_type": "code",
   "execution_count": 25,
   "id": "990c7178",
   "metadata": {},
   "outputs": [],
   "source": [
    "# A decorator simply wrapped the function and modified its behavior. \n",
    "#Now let's understand how we can rewrite this code using the @ symbol, which is what Python uses for Decorators:\n",
    "\n",
    "@new_decorator\n",
    "def needs_some_decor():\n",
    "    print(\"This function needs some decoration\")"
   ]
  },
  {
   "cell_type": "code",
   "execution_count": 26,
   "id": "0271166a",
   "metadata": {},
   "outputs": [
    {
     "name": "stdout",
     "output_type": "stream",
     "text": [
      "Some code before the original func\n",
      "This function needs some decoration\n",
      "Some Code after the original func\n"
     ]
    }
   ],
   "source": [
    "needs_some_decor()"
   ]
  },
  {
   "cell_type": "code",
   "execution_count": null,
   "id": "975d4cd3",
   "metadata": {},
   "outputs": [],
   "source": []
  }
 ],
 "metadata": {
  "kernelspec": {
   "display_name": "Python 3 (ipykernel)",
   "language": "python",
   "name": "python3"
  },
  "language_info": {
   "codemirror_mode": {
    "name": "ipython",
    "version": 3
   },
   "file_extension": ".py",
   "mimetype": "text/x-python",
   "name": "python",
   "nbconvert_exporter": "python",
   "pygments_lexer": "ipython3",
   "version": "3.9.7"
  }
 },
 "nbformat": 4,
 "nbformat_minor": 5
}
